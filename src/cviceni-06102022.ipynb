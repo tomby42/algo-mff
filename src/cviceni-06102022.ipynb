{
 "cells": [
  {
   "cell_type": "markdown",
   "metadata": {},
   "source": [
    "# NPRG062 Algoritmizace – cvičení - 6.10.2022"
   ]
  },
  {
   "cell_type": "markdown",
   "metadata": {},
   "source": [
    "__Algoritmus__ je přesný návod či postup, kterým lze vyřešit daný typ úlohy. (https://cs.wikipedia.org/wiki/Algoritmus)"
   ]
  },
  {
   "cell_type": "markdown",
   "metadata": {},
   "source": [
    "Jsou dány rovnoramenné váhy a 8 kuliček. Všechny až na jednu váží stejně. Navrhněte postup jak najít rozdílnou kuličku na co nejmenší počet vážení."
   ]
  },
  {
   "cell_type": "markdown",
   "metadata": {},
   "source": [
    "Jsou dány rovnoramenné váhy a `n` kuliček. Všechny až na jednu váží stejně. Navrhněte postup (zobecněním předchozího) jak najít rozdílnou kuličku na co nejmenší počet vážení."
   ]
  },
  {
   "cell_type": "markdown",
   "metadata": {},
   "source": [
    "Jsou dány rovnoramenné váhy a n různě těžkých kuliček. Navrhněte algoritmus, který najde\n",
    "- nejtěžší kuličku na co nejmenší počet vážení \n",
    "- nejtěžší kuličku a nejlehčí kuličku  "
   ]
  },
  {
   "cell_type": "markdown",
   "metadata": {},
   "source": [
    "__Komplexita__\n",
    "\n",
    "__Definice__: Nechť f, g : N → R jsou dvě funkce. Řekneme, že funkce f(n) je třídy O(g(n)),\n",
    "jestliže existuje taková kladná reálná konstanta c, že pro skoro všechna n platí f(n) ≤\n",
    "cg(n). Skoro všemi n se myslí, že nerovnost může selhat pro konečně mnoho výjimek, tedy\n",
    "že existuje nějaké přirozené n0 takové, že nerovnost platí pro všechna n ≥ n0. Funkci g(n)\n",
    "se pak říká asymptotický horní odhad funkce f(n).\n",
    "\n",
    "__Definice__: Mějme dvě funkce f, g : N → R. Řekneme, že funkce f(n) je třídy Ω(g(n)),\n",
    "jestliže existuje taková kladná reálná konstanta c, že f(n) ≥ cg(n) pro skoro všechna n.\n",
    "Tomu se říká asymptotický dolní odhad.\n",
    "\n",
    "__Definice__: Řekneme, že funkce f(n) je třídy Θ(g(n)), jestliže f(n) je jak třídy O(g(n)), tak\n",
    "třídy Ω(g(n)).\n",
    "\n",
    "Úlohy:\n",
    "* Dokažte, že O(f(n) + g(n)) = O(max(f(n), g(n))) pro f, g ≥ 0.\n",
    "* Najděte funkce f a g takové, že neplatí ani f = O(g), ani g = O(f)."
   ]
  },
  {
   "cell_type": "markdown",
   "metadata": {},
   "source": []
  }
 ],
 "metadata": {
  "kernelspec": {
   "display_name": "Python 3.8.10 64-bit",
   "language": "python",
   "name": "python3"
  },
  "language_info": {
   "name": "python",
   "version": "3.8.10"
  },
  "orig_nbformat": 4,
  "vscode": {
   "interpreter": {
    "hash": "916dbcbb3f70747c44a77c7bcd40155683ae19c65e1c03b4aa3499c5328201f1"
   }
  }
 },
 "nbformat": 4,
 "nbformat_minor": 2
}
